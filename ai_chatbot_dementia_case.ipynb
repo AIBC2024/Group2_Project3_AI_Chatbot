{
 "cells": [
  {
   "cell_type": "markdown",
   "id": "1ea8faae",
   "metadata": {},
   "source": [
    "# Exploratory ChatBotProject for Dementia Analysis\n",
    "* Objective: Using Gemini model 2.0 flash - analyze if user entered diagnosis is categorized as one of the following:\n",
    "    - Non Dementia\n",
    "    - Very Mild Dementia\n",
    "    - Mild Dementia\n",
    "    - Moderate Dementia\n",
    "* Use Gemini model 2.0 flash, make sure you have the Gemini API Key\n",
    "* Use Gradio to show the result\n",
    "* Disclaimer: This tool is assistive only, not to replace a doctor's or clinical diagnosis\n",
    "* Example for some of the chabot answers are provided at the end of this Jupyter Notebook\n",
    "    "
   ]
  },
  {
   "cell_type": "code",
   "execution_count": 1,
   "id": "dacda9ca",
   "metadata": {},
   "outputs": [],
   "source": [
    "# Import required libraries\n",
    "\n",
    "from langchain_google_genai import ChatGoogleGenerativeAI\n",
    "from langchain.prompts import PromptTemplate\n",
    "from dotenv import load_dotenv\n",
    "import os"
   ]
  },
  {
   "cell_type": "markdown",
   "id": "06481aab",
   "metadata": {},
   "source": [
    "# Model and API Key"
   ]
  },
  {
   "cell_type": "code",
   "execution_count": 2,
   "id": "7b9a46f1",
   "metadata": {},
   "outputs": [],
   "source": [
    "# Load environment variables from .env file\n",
    "load_dotenv()\n",
    "\n",
    "# Set up the Google Generative AI model for our LLMs\n",
    "GEMINI_MODEL = \"gemini-2.0-flash\"\n",
    "\n",
    "# Store the API Key in a variable\n",
    "GEMINI_API_KEY = os.getenv(\"GEMINI_API_KEY\")"
   ]
  },
  {
   "cell_type": "markdown",
   "id": "eb1c2602",
   "metadata": {},
   "source": [
    "# Basic Query"
   ]
  },
  {
   "cell_type": "code",
   "execution_count": 3,
   "id": "26916e3f",
   "metadata": {},
   "outputs": [],
   "source": [
    "# Initialize the model.\n",
    "llm = ChatGoogleGenerativeAI(\n",
    "    google_api_key=GEMINI_API_KEY,\n",
    "    model=GEMINI_MODEL,\n",
    "    temperature=0.2  # Adjust temperature for more or less randomness, lower is more deterministic, higher is more creative. For this project we will use 0.2\n",
    ")"
   ]
  },
  {
   "cell_type": "code",
   "execution_count": 4,
   "id": "b15ec92d",
   "metadata": {},
   "outputs": [],
   "source": [
    "# Create a chain to classify dementia stages\n",
    "prompt = PromptTemplate.from_template(\"\"\"\n",
    "    You are a dementia diagnostic assistant trained to classify cognitive impairment based on clinical descriptions.\n",
    "    \n",
    "    Classify the dementia stage based on the symptoms or health descriptions provided.\n",
    "    \n",
    "    Use these specific criteria for classification:\n",
    "    \n",
    "    - Non-dementia: No significant memory problems. May have occasional forgetfulness but no impact on daily activities. Fully independent in all activities of daily living. No concerning cognitive changes beyond normal aging.\n",
    "    \n",
    "    - Very mild dementia: Subtle but noticeable memory lapses (like misplacing objects or forgetting names). Minor word-finding difficulties. Still independent in daily activities but may take longer to complete complex tasks. Minimal impact on work or social activities.\n",
    "    \n",
    "    - Mild dementia: Clear memory deficits affecting recent events. Problems with time orientation or getting lost in familiar places. Difficulty with problem-solving and complex tasks. Beginning to need help with some instrumental activities of daily living (finances, transportation). Social withdrawal or mood changes may be present.\n",
    "    \n",
    "    - Moderate dementia: Significant memory loss including personal history. Disorientation to time and place. Impaired judgment and reasoning. Needs assistance with basic activities of daily living (dressing, bathing, etc.). May exhibit behavioral changes like agitation, suspicion, or wandering. Communication difficulties becoming apparent.\n",
    "    \n",
    "    Patient Symptoms or Health Data:\n",
    "    {input_text}\n",
    "    \n",
    "    Analyze the information carefully and respond ONLY with one of these classifications:\n",
    "    - Non-dementia\n",
    "    - Very mild dementia\n",
    "    - Mild dementia\n",
    "    - Moderate dementia\n",
    "    \"\"\")\n"
   ]
  },
  {
   "cell_type": "code",
   "execution_count": 5,
   "id": "8acb95b7",
   "metadata": {},
   "outputs": [],
   "source": [
    "\n",
    "def classify_dementia(input_text):\n",
    "    final_prompt = prompt.format(input_text=input_text)\n",
    "    result = llm.invoke(final_prompt)\n",
    "    return result.content.strip()\n"
   ]
  },
  {
   "cell_type": "code",
   "execution_count": 6,
   "id": "008c4215",
   "metadata": {},
   "outputs": [
    {
     "name": "stdout",
     "output_type": "stream",
     "text": [
      "Example 1: - Non-dementia\n",
      "Example 2: Very mild dementia\n",
      "Example 3: Mild dementia\n",
      "Example 4: Moderate dementia\n"
     ]
    }
   ],
   "source": [
    "# Test with sample inputs\n",
    "example_1 = \"Patient is healthy, no cognitive issues, and has no memory problems.\"\n",
    "example_2 = \"Patient has difficulty with complex tasks, often forgets names and faces, but can still live independently.\"\n",
    "example_3 = \"Patient forgets recent events, has trouble finding words, but still can manage daily tasks.\"\n",
    "example_4 = \"Patient requires assistance for dressing, frequently confused about time and place.\"\n",
    "\n",
    "\n",
    "print(\"Example 1:\", classify_dementia(example_1))\n",
    "print(\"Example 2:\", classify_dementia(example_2))\n",
    "print(\"Example 3:\", classify_dementia(example_3))\n",
    "print(\"Example 4:\", classify_dementia(example_4))\n"
   ]
  },
  {
   "cell_type": "markdown",
   "id": "a251db90",
   "metadata": {},
   "source": [
    "# Use Gradio as to show the chatbot conversations"
   ]
  },
  {
   "cell_type": "code",
   "execution_count": 7,
   "id": "8b0f1469",
   "metadata": {},
   "outputs": [],
   "source": [
    "# Uncomment below if gradio is not installed\n",
    "# !pip install gradio\n"
   ]
  },
  {
   "cell_type": "code",
   "execution_count": 8,
   "id": "ae52276a",
   "metadata": {},
   "outputs": [
    {
     "name": "stderr",
     "output_type": "stream",
     "text": [
      "/opt/anaconda3/envs/dev/lib/python3.12/site-packages/gradio/interface.py:415: UserWarning: The `allow_flagging` parameter in `Interface` is deprecated.Use `flagging_mode` instead.\n",
      "  warnings.warn(\n"
     ]
    },
    {
     "name": "stdout",
     "output_type": "stream",
     "text": [
      "* Running on local URL:  http://127.0.0.1:7866\n",
      "* Running on public URL: https://93281dedeeb0cdfcdc.gradio.live\n",
      "\n",
      "This share link expires in 1 week. For free permanent hosting and GPU upgrades, run `gradio deploy` from the terminal in the working directory to deploy to Hugging Face Spaces (https://huggingface.co/spaces)\n"
     ]
    },
    {
     "data": {
      "text/html": [
       "<div><iframe src=\"https://93281dedeeb0cdfcdc.gradio.live\" width=\"100%\" height=\"500\" allow=\"autoplay; camera; microphone; clipboard-read; clipboard-write;\" frameborder=\"0\" allowfullscreen></iframe></div>"
      ],
      "text/plain": [
       "<IPython.core.display.HTML object>"
      ]
     },
     "metadata": {},
     "output_type": "display_data"
    },
    {
     "data": {
      "text/plain": []
     },
     "execution_count": 8,
     "metadata": {},
     "output_type": "execute_result"
    }
   ],
   "source": [
    "import gradio as gr\n",
    "\n",
    "def dementia_chatbot_interface(user_input):\n",
    "    try:\n",
    "        result = classify_dementia(user_input)\n",
    "        return f\"🧠 Dementia Classification: **{result}**\"\n",
    "    except Exception as e:\n",
    "        return f\"❌ Error: {str(e)}\"\n",
    "\n",
    "gr.Interface(\n",
    "    fn=dementia_chatbot_interface,\n",
    "    inputs=gr.Textbox(lines=5, placeholder=\"Enter patient's symptoms or health descriptions...\"),\n",
    "    outputs=\"markdown\",\n",
    "    title=\"🧠 Dementia Classification Chatbot\",\n",
    "    description=\"Enter symptoms or health data. The AI will classify the dementia stage.\",\n",
    "    allow_flagging=\"never\",\n",
    "    theme=\"default\"\n",
    ").launch(share=True)"
   ]
  },
  {
   "cell_type": "markdown",
   "id": "973056b3",
   "metadata": {},
   "source": [
    "## Example entries\n",
    "* Patient has a pacemaker, a smoker, 83 years old female --> Non dementia\n",
    "* 22 year old female occasionally has brain fog, remembers all relationships with others, has clear recognition of her surroundings --> Non dementia\n",
    "* Patient is a 69 years old female, sometimes misplace things --> Very mild dementia\n",
    "* Patient is a 75 years old male, forgets his wife's birthday, sometimes get lost in the house --> Mild dementia\n",
    "* Patient forgets recent events, has trouble finding words, 79 years old female --> Mild dementia\n",
    "* Patient is a 75 years old male, forgets his wife's name and birthday, sometimes get lost in the house --> Moderate dementia\n",
    "* Patient is a 77 years old male, an alcoholic, has had brain cancer, and always gets confused and lost --> Moderate dementia\n",
    "\n"
   ]
  }
 ],
 "metadata": {
  "kernelspec": {
   "display_name": "dev",
   "language": "python",
   "name": "python3"
  },
  "language_info": {
   "codemirror_mode": {
    "name": "ipython",
    "version": 3
   },
   "file_extension": ".py",
   "mimetype": "text/x-python",
   "name": "python",
   "nbconvert_exporter": "python",
   "pygments_lexer": "ipython3",
   "version": "3.12.7"
  }
 },
 "nbformat": 4,
 "nbformat_minor": 5
}
