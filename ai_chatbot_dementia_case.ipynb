{
 "cells": [
  {
   "cell_type": "markdown",
   "id": "1ea8faae",
   "metadata": {},
   "source": [
    "# Exploratory ChatBotProject for Dementia Analysis\n",
    "* Objective: Using Gemini model 2.0 flash - analyze if user entered diagnosis is categorized as one of the following:\n",
    "    - Non Dementia\n",
    "    - Very Mild Dementia\n",
    "    - Mild Dementia\n",
    "    - Moderate Dementia\n",
    "    - Severe Dementia\n",
    "    "
   ]
  },
  {
   "cell_type": "code",
   "execution_count": 1,
   "id": "dacda9ca",
   "metadata": {},
   "outputs": [],
   "source": [
    "# Import required libraries\n",
    "\n",
    "from langchain_google_genai import ChatGoogleGenerativeAI\n",
    "from langchain.prompts import PromptTemplate\n",
    "#from langchain.chains import LLMChain\n",
    "from dotenv import load_dotenv\n",
    "import os"
   ]
  },
  {
   "cell_type": "markdown",
   "id": "06481aab",
   "metadata": {},
   "source": [
    "# Model and API Key"
   ]
  },
  {
   "cell_type": "code",
   "execution_count": 2,
   "id": "7b9a46f1",
   "metadata": {},
   "outputs": [],
   "source": [
    "# Load environment variables from .env file\n",
    "load_dotenv()\n",
    "\n",
    "# Set up the Google Generative AI model for our LLMs\n",
    "GEMINI_MODEL = \"gemini-2.0-flash\"\n",
    "\n",
    "# Store the API Key in a variable\n",
    "GEMINI_API_KEY = os.getenv(\"GEMINI_API_KEY\")"
   ]
  },
  {
   "cell_type": "markdown",
   "id": "eb1c2602",
   "metadata": {},
   "source": [
    "# Basic Query"
   ]
  },
  {
   "cell_type": "code",
   "execution_count": 3,
   "id": "26916e3f",
   "metadata": {},
   "outputs": [],
   "source": [
    "# Initialize the model.\n",
    "llm = ChatGoogleGenerativeAI(\n",
    "    google_api_key=GEMINI_API_KEY,\n",
    "    model=GEMINI_MODEL,\n",
    "    temperature=0.2  # Adjust temperature for more or less randomness, lower is more deterministic, higher is more creative. For this project we will use 0.2\n",
    ")"
   ]
  },
  {
   "cell_type": "code",
   "execution_count": 4,
   "id": "b15ec92d",
   "metadata": {},
   "outputs": [],
   "source": [
    "# Create a chain to classify dementia stages\n",
    "prompt = PromptTemplate.from_template(\"\"\"\n",
    "    You are a dementia diagnostic assistant.\n",
    "    Classify the dementia stage based on symptoms or test descriptions.\n",
    "\n",
    "    Respond only with one of the following:\n",
    "    - Non-dementia\n",
    "    - Very mild dementia\n",
    "    - Mild dementia\n",
    "    - Moderate dementia\n",
    "    - Severe dementia\n",
    "\n",
    "    Patient Symptoms or Health Data:\n",
    "    {input_text}\n",
    "\n",
    "    What is the dementia classification?\n",
    "    \"\"\")\n",
    "\n",
    "#dementia_chain = LLMChain(\n",
    "#    llm=llm,\n",
    "#    prompt=prompt\n",
    "#)"
   ]
  },
  {
   "cell_type": "code",
   "execution_count": 5,
   "id": "8acb95b7",
   "metadata": {},
   "outputs": [],
   "source": [
    "\n",
    "def classify_dementia(input_text):\n",
    "    final_prompt = prompt.format(input_text=input_text)\n",
    "    result = llm.invoke(final_prompt)\n",
    "    return result.content.strip()\n"
   ]
  },
  {
   "cell_type": "code",
   "execution_count": 6,
   "id": "008c4215",
   "metadata": {},
   "outputs": [
    {
     "name": "stdout",
     "output_type": "stream",
     "text": [
      "Example 1: Mild dementia\n",
      "Example 2: Moderate dementia\n",
      "Example 3: Non-dementia\n",
      "Example 4: Severe dementia\n"
     ]
    }
   ],
   "source": [
    "# Test with sample inputs\n",
    "example_1 = \"Patient forgets recent events, has trouble finding words, but still can manage daily tasks.\"\n",
    "example_2 = \"Patient requires assistance for dressing, frequently confused about time and place.\"\n",
    "example_3 = \"Patient shows no memory problems, healthy cognitive function.\"\n",
    "example_4 = \"Patient no longer recognizing family members, cannot remember recent events, and is disoriented in familiar places.\"\n",
    "\n",
    "print(\"Example 1:\", classify_dementia(example_1))\n",
    "print(\"Example 2:\", classify_dementia(example_2))\n",
    "print(\"Example 3:\", classify_dementia(example_3))\n",
    "print(\"Example 4:\", classify_dementia(example_4))\n"
   ]
  },
  {
   "cell_type": "markdown",
   "id": "a251db90",
   "metadata": {},
   "source": [
    "# Use Gradio as to show the chatbot conversations"
   ]
  },
  {
   "cell_type": "code",
   "execution_count": null,
   "id": "8b0f1469",
   "metadata": {},
   "outputs": [],
   "source": [
    "# Uncomment below if gradio is not installed\n",
    "# !pip install gradio\n"
   ]
  },
  {
   "cell_type": "code",
   "execution_count": 7,
   "id": "ae52276a",
   "metadata": {},
   "outputs": [
    {
     "name": "stderr",
     "output_type": "stream",
     "text": [
      "/opt/anaconda3/envs/dev/lib/python3.12/site-packages/gradio/interface.py:415: UserWarning: The `allow_flagging` parameter in `Interface` is deprecated.Use `flagging_mode` instead.\n",
      "  warnings.warn(\n"
     ]
    },
    {
     "name": "stdout",
     "output_type": "stream",
     "text": [
      "* Running on local URL:  http://127.0.0.1:7860\n",
      "\n",
      "To create a public link, set `share=True` in `launch()`.\n"
     ]
    },
    {
     "data": {
      "text/html": [
       "<div><iframe src=\"http://127.0.0.1:7860/\" width=\"100%\" height=\"500\" allow=\"autoplay; camera; microphone; clipboard-read; clipboard-write;\" frameborder=\"0\" allowfullscreen></iframe></div>"
      ],
      "text/plain": [
       "<IPython.core.display.HTML object>"
      ]
     },
     "metadata": {},
     "output_type": "display_data"
    },
    {
     "data": {
      "text/plain": []
     },
     "execution_count": 7,
     "metadata": {},
     "output_type": "execute_result"
    }
   ],
   "source": [
    "import gradio as gr\n",
    "\n",
    "def dementia_chatbot_interface(user_input):\n",
    "    try:\n",
    "        result = classify_dementia(user_input)\n",
    "        return f\"🧠 Dementia Classification: **{result}**\"\n",
    "    except Exception as e:\n",
    "        return f\"❌ Error: {str(e)}\"\n",
    "\n",
    "gr.Interface(\n",
    "    fn=dementia_chatbot_interface,\n",
    "    inputs=gr.Textbox(lines=5, placeholder=\"Enter patient's symptoms or health scores...\"),\n",
    "    outputs=\"markdown\",\n",
    "    title=\"🧠 Dementia Classification Chatbot\",\n",
    "    description=\"Enter symptoms or health data. The AI will classify the dementia stage.\",\n",
    "    allow_flagging=\"never\",\n",
    "    theme=\"default\"\n",
    ").launch()"
   ]
  },
  {
   "cell_type": "markdown",
   "id": "973056b3",
   "metadata": {},
   "source": [
    "## Example entries\n",
    "* Patient has a pacemaker, a smoker, 83 years old female --> Non dementia\n",
    "* 22 year old female occasionally has brain fog, remembers all relationships with others, has clear recognition of her surroundings --> Non dementia\n",
    "* Patient is a 75 years old male, forgets his wife's birthday, sometimes get lost in the house --> Very mild dementia\n",
    "* Patient forgets recent events, has trouble finding words, 79 years old female --> Mild dementia\n",
    "* Patient is a 75 years old male, forgets his wife's name and birthday, sometimes get lost in the house --> Moderate dementia\n",
    "* Patient is a 77 years old male, an alcoholic, has had brain cancer, and always gets confused and lost --> Moderate dementia\n",
    "* Patient is very disoriented, an 85 years old female, cannot remember anything recent --> Severe dementia\n",
    "* 80 year old male can't remember his surroundings, he lives in an assisted living home, forgets to eat, and forgets how to locate the bathroom --> Severe dementia\n"
   ]
  }
 ],
 "metadata": {
  "kernelspec": {
   "display_name": "dev",
   "language": "python",
   "name": "python3"
  },
  "language_info": {
   "codemirror_mode": {
    "name": "ipython",
    "version": 3
   },
   "file_extension": ".py",
   "mimetype": "text/x-python",
   "name": "python",
   "nbconvert_exporter": "python",
   "pygments_lexer": "ipython3",
   "version": "3.12.7"
  }
 },
 "nbformat": 4,
 "nbformat_minor": 5
}
